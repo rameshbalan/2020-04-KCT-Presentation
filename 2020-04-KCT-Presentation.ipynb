{
 "cells": [
  {
   "cell_type": "markdown",
   "metadata": {
    "slideshow": {
     "slide_type": "slide"
    }
   },
   "source": [
    "## A Simple talk\n",
    "Balan Ramesh  \n",
    "29-April-2020"
   ]
  },
  {
   "cell_type": "markdown",
   "metadata": {
    "slideshow": {
     "slide_type": "slide"
    }
   },
   "source": [
    "## Overview"
   ]
  },
  {
   "cell_type": "markdown",
   "metadata": {
    "slideshow": {
     "slide_type": "subslide"
    }
   },
   "source": [
    "### What is this talk about?"
   ]
  },
  {
   "cell_type": "markdown",
   "metadata": {
    "slideshow": {
     "slide_type": "fragment"
    }
   },
   "source": [
    "  - My experiences as an Integrated Ph. D. candidate in US.\n",
    "  - Technical Challenges\n",
    "  - Personal Challenges"
   ]
  },
  {
   "cell_type": "markdown",
   "metadata": {
    "cell_style": "center",
    "slideshow": {
     "slide_type": "subslide"
    }
   },
   "source": [
    "\n",
    "### Why should you listen to the talk? What you will get out of this talk?"
   ]
  },
  {
   "cell_type": "markdown",
   "metadata": {
    "slideshow": {
     "slide_type": "fragment"
    }
   },
   "source": [
    "\n",
    "  - By the end of the talk you will have a list of things to think about before you pursue higher studies or Ph.D. in US.\n",
    "\n",
    "  - I hope my talk helps you think about different factors to make the decision that you want."
   ]
  },
  {
   "cell_type": "markdown",
   "metadata": {
    "cell_style": "center",
    "slideshow": {
     "slide_type": "subslide"
    }
   },
   "source": [
    "### What you will NOT get out of this talk?"
   ]
  },
  {
   "cell_type": "markdown",
   "metadata": {
    "slideshow": {
     "slide_type": "fragment"
    }
   },
   "source": [
    "\n",
    "  - This talk is NOT a motivation talk.\n",
    "\n",
    "  - This talk is NOT a recipe to do an integrated Ph.D."
   ]
  },
  {
   "cell_type": "markdown",
   "metadata": {
    "slideshow": {
     "slide_type": "slide"
    }
   },
   "source": [
    "\n",
    "## Personal Life\n"
   ]
  },
  {
   "cell_type": "markdown",
   "metadata": {
    "slideshow": {
     "slide_type": "fragment"
    }
   },
   "source": [
    "- Balan.\n",
    "- 2012-2016 Batch.\n",
    "- Tech/Linux enthusiast.\n",
    "- Reading Non-Fiction.\n",
    "- Believer in Binging.\n",
    "- Badminton/Cricket/Football."
   ]
  },
  {
   "cell_type": "markdown",
   "metadata": {
    "cell_style": "center",
    "slideshow": {
     "slide_type": "slide"
    }
   },
   "source": [
    "## Academic Life"
   ]
  },
  {
   "cell_type": "markdown",
   "metadata": {
    "slideshow": {
     "slide_type": "fragment"
    }
   },
   "source": [
    "- Above Average Student.\n",
    "- Interested in research.\n",
    "- Couple of Internships and research papers.\n",
    "- GRE and TOEFL.\n",
    "- VISA and Shopping.\n",
    "- Flight and Land."
   ]
  },
  {
   "cell_type": "markdown",
   "metadata": {
    "slideshow": {
     "slide_type": "slide"
    }
   },
   "source": [
    "## Experience as an Integrated Ph. D. candidate"
   ]
  },
  {
   "cell_type": "markdown",
   "metadata": {
    "slideshow": {
     "slide_type": "fragment"
    }
   },
   "source": [
    "|S.No|Responsibilities|Category|\n",
    "|:--|--|---:|\n",
    "|1.|Research|Academic|\n",
    "|2.|Teaching/ Grading/ Exam Duty|Academic|\n",
    "|3.|Groceries/Cooking/Cleaning/Laundry/Car Maintainence|Personal|\n",
    "|4.|Chill Time - Road Trips/Enjoying Life in general|Personal|"
   ]
  },
  {
   "cell_type": "markdown",
   "metadata": {
    "slideshow": {
     "slide_type": "subslide"
    }
   },
   "source": [
    "### Bioinformatics/ Computational Biologist."
   ]
  },
  {
   "cell_type": "markdown",
   "metadata": {
    "slideshow": {
     "slide_type": "fragment"
    }
   },
   "source": [
    "- Sex Chromosome Evolution.\n",
    "    - Model System: Beetles (Wheat Flour Beetles)."
   ]
  },
  {
   "cell_type": "markdown",
   "metadata": {
    "slideshow": {
     "slide_type": "subslide"
    }
   },
   "source": [
    "![](https://keys.lucidcentral.org/keys/v3/eafrinet/maize_pests/key/maize_pests/Media/Html/images/Tribolium_castaneum_(Herbst_1797)_-_Red_Flour_Beetle/tribolium_castaneum01.jpg)"
   ]
  },
  {
   "cell_type": "markdown",
   "metadata": {
    "slideshow": {
     "slide_type": "subslide"
    }
   },
   "source": [
    "- R / Bash / Python Programming.   \n",
    "![](https://evodify.com/assets/posts/2018-12-20-python-r-bash-jupyter-notebook/R_Bash_in_Jupyter_notebooks.jpeg)\n",
    "\n",
    "- Jupyter is an Integrated Development Interface (IDE) mainly for Python but can be also used for R."
   ]
  },
  {
   "cell_type": "markdown",
   "metadata": {
    "slideshow": {
     "slide_type": "subslide"
    }
   },
   "source": [
    "### Basics from B. Tech:"
   ]
  },
  {
   "cell_type": "markdown",
   "metadata": {
    "slideshow": {
     "slide_type": "fragment"
    }
   },
   "source": [
    "- Course 1: Bioinformatics.\n",
    "        - Introduction to Bio-Linux\n",
    "- Course 2: Perl for Computational Biology.\n",
    "        - Introduction to Programming\n",
    "- Organizing a Bioinformatics workshop."
   ]
  },
  {
   "cell_type": "markdown",
   "metadata": {
    "slideshow": {
     "slide_type": "slide"
    }
   },
   "source": [
    "- Exposed to previously listed courses in 4th year.\n",
    "\n",
    "- Highly insufficient experience for a Ph. D."
   ]
  }
 ],
 "metadata": {
  "celltoolbar": "Slideshow",
  "kernelspec": {
   "display_name": "Python 3",
   "language": "python",
   "name": "python3"
  },
  "language_info": {
   "codemirror_mode": {
    "name": "ipython",
    "version": 3
   },
   "file_extension": ".py",
   "mimetype": "text/x-python",
   "name": "python",
   "nbconvert_exporter": "python",
   "pygments_lexer": "ipython3",
   "version": "3.6.10"
  }
 },
 "nbformat": 4,
 "nbformat_minor": 4
}
